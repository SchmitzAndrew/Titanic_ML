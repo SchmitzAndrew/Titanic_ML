{
 "cells": [
  {
   "cell_type": "markdown",
   "source": [
    "# Titanic Machine Learning\n",
    "\n",
    "To introduce ourselves to machine learning, we will be looking at the Titanic data set from Kaggle.\n",
    "\n",
    "First, we need to read the files with pandas:"
   ],
   "metadata": {
    "collapsed": false
   }
  },
  {
   "cell_type": "code",
   "execution_count": null,
   "outputs": [],
   "source": [
    "import pandas as pd\n",
    "\n",
    "training_file_path = \"data/train.csv\"\n",
    "titanic_data = pd.read_csv(training_file_path)"
   ],
   "metadata": {
    "collapsed": false,
    "pycharm": {
     "name": "#%%\n"
    }
   }
  }
 ],
 "metadata": {
  "kernelspec": {
   "display_name": "Python 3",
   "language": "python",
   "name": "python3"
  },
  "language_info": {
   "codemirror_mode": {
    "name": "ipython",
    "version": 2
   },
   "file_extension": ".py",
   "mimetype": "text/x-python",
   "name": "python",
   "nbconvert_exporter": "python",
   "pygments_lexer": "ipython2",
   "version": "2.7.6"
  }
 },
 "nbformat": 4,
 "nbformat_minor": 0
}